{
 "cells": [
  {
   "cell_type": "code",
   "execution_count": 19,
   "metadata": {},
   "outputs": [],
   "source": [
    "import numpy as np\n",
    "from sklearn.datasets import load_iris\n",
    "from sklearn.model_selection import train_test_split\n",
    "from sklearn.metrics import accuracy_score\n",
    "from sklearn.neighbors import KNeighborsClassifier"
   ]
  },
  {
   "cell_type": "code",
   "execution_count": 20,
   "metadata": {},
   "outputs": [],
   "source": [
    "#Conjunto de dados Iris\n",
    "dados=load_iris().data\n",
    "classe=load_iris().target"
   ]
  },
  {
   "cell_type": "code",
   "execution_count": 21,
   "metadata": {},
   "outputs": [],
   "source": [
    "#Separação em treino e teste estratificado pela classe e sempre a mesma partição.\n",
    "x_treino,x_teste,y_treino,y_teste=train_test_split(dados,classe,test_size=0.33\n",
    "                                            ,stratify=classe,random_state=7)"
   ]
  },
  {
   "cell_type": "code",
   "execution_count": 22,
   "metadata": {},
   "outputs": [],
   "source": [
    "#Sempre a mesma amostra das observações que não terão classe para todos os k's.\n",
    "np.random.seed(7)\n",
    "#Esse comando escolhe aleatoriamente metade das posições do conjunto de treinamento\n",
    "#que não terão classe.\n",
    "posicoes_sem_classe=np.random.choice(len(y_treino),replace=False,\n",
    "                                     size=int(np.floor(len(y_treino)/2)))"
   ]
  },
  {
   "cell_type": "code",
   "execution_count": 23,
   "metadata": {},
   "outputs": [],
   "source": [
    "#Atribuição da classe com -1, essas observações serão as que não terão classe.\n",
    "y_treino[posicoes_sem_classe]=-1"
   ]
  },
  {
   "cell_type": "code",
   "execution_count": 24,
   "metadata": {},
   "outputs": [],
   "source": [
    "class classificador_semi_sup():\n",
    "    def __init__(self,k,classificador):\n",
    "        self.k=k\n",
    "        self.classificador=classificador               \n",
    "        if self.k>0 and type(self.k)==int and self.k<=len(posicoes_sem_classe):\n",
    "            pass\n",
    "        else:\n",
    "            print(\"Voce nao digitou as quantidades pedidas adequadamente, tente denovo!\")\n",
    "                  \n",
    "    def fit(self,x_treino,y_treino):  \n",
    "        self.x_treino = x_treino\n",
    "        self.y_treino = y_treino\n",
    "        #Comando que identifica as observações sem classe.\n",
    "        posicoes_sem_classe=np.where(self.y_treino==-1)[0] \n",
    "        #No caso em que o o número de observações não é múltiplo de k, esse \n",
    "        #passo resolve esse problema, na última iteração ele pega todas as \n",
    "        #observações sem classe que restam.              \n",
    "        ultimo_indice=int(np.ceil(len(posicoes_sem_classe)/self.k))   \n",
    "        for i in range(ultimo_indice):\n",
    "            self.modelo=self.classificador()\n",
    "            \n",
    "            #Última iteração.\n",
    "            if i==ultimo_indice-1:\n",
    "                #O treino provisório é o conjunto de observações em que as posições\n",
    "                #são a diferença entre o conjunto com todas as observações de treinamento\n",
    "                #e do conjunto que não possuem classe, logo irá resultar nas observações\n",
    "                #que contenham a classe.\n",
    "                x_treino_provisorio=(self.x_treino[np.setdiff1d(range\n",
    "                       (len(self.y_treino)),posicoes_sem_classe),:])\n",
    "                y_treino_provisorio=(self.y_treino[np.setdiff1d(range\n",
    "                       (len(self.y_treino)),posicoes_sem_classe)])\n",
    "                self.modelo.fit(x_treino_provisorio,y_treino_provisorio)\n",
    "                #Depois do algoritmo estar treinado ele prediz as classes das\n",
    "                #k observações sem classe ou das observações que restam.\n",
    "                self.y_treino[posicoes_sem_classe]=(self.modelo.predict\n",
    "                        (self.x_treino[posicoes_sem_classe,:]))\n",
    "            #Todas as iterações menos a última.   \n",
    "            else:\n",
    "                #O treino provisório é o conjunto de observações em que as posições\n",
    "                #são a diferença entre o conjunto com todas as observações de treinamento\n",
    "                #e do conjunto que não possuem classe, logo irá resultar nas observações\n",
    "                #que contenham a classe.\n",
    "                x_treino_provisorio=(self.x_treino[np.setdiff1d(range\n",
    "                             (len(self.y_treino)),posicoes_sem_classe),:])\n",
    "                y_treino_provisorio=(self.y_treino[np.setdiff1d(range\n",
    "                             (len(self.y_treino)),posicoes_sem_classe)])\n",
    "                self.modelo.fit(x_treino_provisorio,y_treino_provisorio)\n",
    "                #k posicoes aleatorias que serao atribuidas as observacoes sem classe.\n",
    "                posicoes_classificadas=(np.random.choice(posicoes_sem_classe\n",
    "                ,replace=False,size=self.k))\n",
    "                #Depois do algoritmo estar treinado ele prediz as classes das\n",
    "                #k observações sem classe ou das observações que restam.\n",
    "                self.y_treino[posicoes_classificadas]=(self.modelo.predict\n",
    "                        (self.x_treino[posicoes_classificadas,:]))\n",
    "                #Aqui o array das posições sem classe é atualizado para que \n",
    "                #somente contenham posições de observações sem classe em cada iteração.\n",
    "                posicoes_sem_classe=np.setdiff1d(posicoes_sem_classe,posicoes_classificadas)\n",
    "        \n",
    "    def score(self,x_teste,y_teste):\n",
    "        print(accuracy_score(y_teste,self.modelo.predict(x_teste)))"
   ]
  },
  {
   "cell_type": "code",
   "execution_count": 25,
   "metadata": {},
   "outputs": [],
   "source": [
    "modelo=classificador_semi_sup(7,KNeighborsClassifier)    "
   ]
  },
  {
   "cell_type": "code",
   "execution_count": 26,
   "metadata": {},
   "outputs": [],
   "source": [
    "modelo.fit(x_treino,y_treino)"
   ]
  },
  {
   "cell_type": "code",
   "execution_count": 27,
   "metadata": {},
   "outputs": [
    {
     "name": "stdout",
     "output_type": "stream",
     "text": [
      "0.9\n"
     ]
    }
   ],
   "source": [
    "modelo.score(x_teste,y_teste)"
   ]
  }
 ],
 "metadata": {
  "kernelspec": {
   "display_name": "Python 3",
   "language": "python",
   "name": "python3"
  },
  "language_info": {
   "codemirror_mode": {
    "name": "ipython",
    "version": 3
   },
   "file_extension": ".py",
   "mimetype": "text/x-python",
   "name": "python",
   "nbconvert_exporter": "python",
   "pygments_lexer": "ipython3",
   "version": "3.7.1"
  }
 },
 "nbformat": 4,
 "nbformat_minor": 2
}
