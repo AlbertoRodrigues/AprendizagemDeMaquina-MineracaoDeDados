{
 "cells": [
  {
   "cell_type": "code",
   "execution_count": 16,
   "metadata": {},
   "outputs": [],
   "source": [
    "#Nome: Alberto Rodrigues Ferreira\n",
    "#Matrícula: 391278\n",
    "import numpy as np\n",
    "import itertools as it"
   ]
  },
  {
   "cell_type": "code",
   "execution_count": 17,
   "metadata": {},
   "outputs": [
    {
     "name": "stdout",
     "output_type": "stream",
     "text": [
      "Digite o número de observacoes: 10\n",
      "Digite o número de variaveis: 3\n"
     ]
    }
   ],
   "source": [
    "##Processo que pede numero de observacoes e variaveis sem nenhum problema.\n",
    "while True:\n",
    "    try:\n",
    "        n=int(input(\"Digite o número de observacoes: \"))\n",
    "        p=int(input(\"Digite o número de variaveis: \"))\n",
    "        if p>0 and n>0 and float(p)==int(p) and float(n)==int(n):\n",
    "            break\n",
    "        else:\n",
    "            print(\"Voce nao digitou as quantidades pedidas adequadamente, tente denovo!\")\n",
    "    except:\n",
    "        print(\"Voce nao digitou as quantidades pedidas adequadamente, tente denovo!\")\n"
   ]
  },
  {
   "cell_type": "code",
   "execution_count": 18,
   "metadata": {},
   "outputs": [
    {
     "name": "stdout",
     "output_type": "stream",
     "text": [
      "Digite o grau do maior monomio da disjuncao: 2\n"
     ]
    }
   ],
   "source": [
    "while True:\n",
    "    try:\n",
    "        k=int(input(\"Digite o grau do maior monomio da disjuncao: \"))\n",
    "        if k>0 and float(k)==int(k) and k<=p:\n",
    "            break\n",
    "        else:\n",
    "            if k>p:\n",
    "                print(\"Voce digitou um grau maior que o numero de variaveis, tente denovo!\")\n",
    "            else:\n",
    "                print(\"Voce nao digitou o grau adequadamente, tente denovo!\")\n",
    "    except:\n",
    "        print(\"Voce nao digitou o grau adequadamente, tente denovo!\")\n"
   ]
  },
  {
   "cell_type": "code",
   "execution_count": 19,
   "metadata": {},
   "outputs": [],
   "source": [
    "#Gerando a amostra aleatoria.   \n",
    "#Melhorar amostra aleatoria.\n",
    "amostra=np.random.randint(0,2,size=(n,p+1))\n",
    "#amostra\n",
    "#Tirar observacoes inconsistentes e redundantes.\n",
    "IndicesInc=[]\n",
    "for i in range(amostra.shape[0]):\n",
    "    for j in range(amostra.shape[0]):\n",
    "        if np.array_equal(amostra[i,:-1],amostra[j,:-1])==True and amostra[i,-1]!=amostra[j,-1]:\n",
    "            if amostra[i,-1]==1:\n",
    "                if i not in IndicesInc:\n",
    "                    IndicesInc.append(i)\n",
    "            else:\n",
    "                if j not in IndicesInc:\n",
    "                    IndicesInc.append(j)\n"
   ]
  },
  {
   "cell_type": "code",
   "execution_count": 20,
   "metadata": {},
   "outputs": [],
   "source": [
    "#IndicesRed \n",
    "IndicesNInc=np.setdiff1d(np.arange(amostra.shape[0]),IndicesInc)  \n",
    "amostra2=amostra[IndicesNInc]   "
   ]
  },
  {
   "cell_type": "code",
   "execution_count": 21,
   "metadata": {},
   "outputs": [
    {
     "data": {
      "text/plain": [
       "[1, 2, 3, -1, -2, -3]"
      ]
     },
     "execution_count": 21,
     "metadata": {},
     "output_type": "execute_result"
    }
   ],
   "source": [
    "#Gerando todos os literais possiveis.\n",
    "Literais=[i for i in range(1,len(amostra2[0][:-1])+1)]+[-i for i in range(1,len(amostra2[0][:-1])+1)]\n",
    "Literais"
   ]
  },
  {
   "cell_type": "code",
   "execution_count": 22,
   "metadata": {},
   "outputs": [],
   "source": [
    "Monomios=[]\n",
    "#Gerando todos os monomios possiveis.\n",
    "for i in range(1,k+1):    \n",
    "        Monomios.append(list(it.permutations(Literais,i)))"
   ]
  },
  {
   "cell_type": "code",
   "execution_count": 23,
   "metadata": {},
   "outputs": [
    {
     "data": {
      "text/plain": [
       "[(1,),\n",
       " (2,),\n",
       " (3,),\n",
       " (-1,),\n",
       " (-2,),\n",
       " (-3,),\n",
       " (1, 2),\n",
       " (1, 3),\n",
       " (1, -1),\n",
       " (1, -2),\n",
       " (1, -3),\n",
       " (2, 1),\n",
       " (2, 3),\n",
       " (2, -1),\n",
       " (2, -2),\n",
       " (2, -3),\n",
       " (3, 1),\n",
       " (3, 2),\n",
       " (3, -1),\n",
       " (3, -2),\n",
       " (3, -3),\n",
       " (-1, 1),\n",
       " (-1, 2),\n",
       " (-1, 3),\n",
       " (-1, -2),\n",
       " (-1, -3),\n",
       " (-2, 1),\n",
       " (-2, 2),\n",
       " (-2, 3),\n",
       " (-2, -1),\n",
       " (-2, -3),\n",
       " (-3, 1),\n",
       " (-3, 2),\n",
       " (-3, 3),\n",
       " (-3, -1),\n",
       " (-3, -2)]"
      ]
     },
     "execution_count": 23,
     "metadata": {},
     "output_type": "execute_result"
    }
   ],
   "source": [
    "#Monomios        \n",
    "Monomios2=[]\n",
    "for i in Monomios:\n",
    "    Monomios2=Monomios2+i\n",
    "Monomios2"
   ]
  },
  {
   "cell_type": "code",
   "execution_count": 24,
   "metadata": {},
   "outputs": [
    {
     "data": {
      "text/plain": [
       "[(1, -1), (2, -2), (3, -3), (-1, 1), (-2, 2), (-3, 3)]"
      ]
     },
     "execution_count": 24,
     "metadata": {},
     "output_type": "execute_result"
    }
   ],
   "source": [
    "#Nesse processo a seguir o objetivo é remover alguns monomios indesejaveis como\n",
    "#literais conflitantes de uma mesma variavel no mesmo monomio.\n",
    "#Duvida, nao remove todos os monomios que deveriam ser removidos.\n",
    "#O objetivo agora são encontrar monomios equivalentes mas que diferem nas posicoes\n",
    "#ou seja são redundantes e removê-los.                  \n",
    "#Dùvida, o mesmo erro acontece nao removendo todos os monomios que deveriam ser removidos.\n",
    "#Meu Jeito 2\n",
    "monomios_a_remover = [] # vai conter os monomios que devem ser removidos\n",
    "#Acessando as listas de tuplas dos monomios\n",
    "for i in Monomios2:\n",
    "    #Acessando um monomio em particular.\n",
    "    #Acessando os literais dos monomios.\n",
    "    for j in i:\n",
    "        if (j in i) and ((-j) in i):\n",
    "            # Guardar o monomio a ser removido e a sublista da qual ele deve ser removido\n",
    "            monomios_a_remover.append(i)\n",
    "            break # nao preciso prosseguir -- esse monomio ja era\n",
    "monomios_a_remover"
   ]
  },
  {
   "cell_type": "code",
   "execution_count": 25,
   "metadata": {},
   "outputs": [],
   "source": [
    "# Remover os monomios que foram marcados para remocao\n",
    "for i in monomios_a_remover:\n",
    "    Monomios2.remove(i) "
   ]
  },
  {
   "cell_type": "code",
   "execution_count": 26,
   "metadata": {},
   "outputs": [],
   "source": [
    "monomios_a_remover = []                   \n",
    "#Tirando os monomios redudantes\n",
    "for i in Monomios2:\n",
    "#Acessando um monomio em particular.\n",
    "    for j in Monomios2:\n",
    "        # Verificando monomios diferentes e se eles são equivalentes.\n",
    "        if  j!=i and set(j)==set(i):  \n",
    "           #Removendo somente um dos redundantes.\n",
    "           if j not in monomios_a_remover and i not in monomios_a_remover:\n",
    "               monomios_a_remover.append(i)"
   ]
  },
  {
   "cell_type": "code",
   "execution_count": 27,
   "metadata": {},
   "outputs": [],
   "source": [
    "for i in monomios_a_remover:\n",
    "    Monomios2.remove(i)"
   ]
  },
  {
   "cell_type": "code",
   "execution_count": 28,
   "metadata": {},
   "outputs": [
    {
     "data": {
      "text/plain": [
       "[(-1,),\n",
       " (-2,),\n",
       " (-3,),\n",
       " (-2, -1),\n",
       " (-3, -1),\n",
       " (-3, -2),\n",
       " (1,),\n",
       " (2,),\n",
       " (2, 1),\n",
       " (-3, 1),\n",
       " (-3, 2),\n",
       " (3,),\n",
       " (3, 1),\n",
       " (-2, 1),\n",
       " (-2, 3)]"
      ]
     },
     "execution_count": 28,
     "metadata": {},
     "output_type": "execute_result"
    }
   ],
   "source": [
    "monomios_a_remover =[]\n",
    "#Acessando os indices das observacoes.\n",
    "for i in range(amostra2.shape[0]):\n",
    "    #Verificando somente as observacoes que as classes dao 0.\n",
    "    if amostra2[i,-1]==0:\n",
    "        #Acessando os monomios \n",
    "        for j in Monomios2:\n",
    "            #Monomio particular pra saber se é 0 ou 1.\n",
    "            MonomioTemporario=1\n",
    "            #Acessando os literais do monomio.\n",
    "            for w in j:\n",
    "                #Caso que o literal seja normal, o mesmo da variavel especifica\n",
    "                #da observacao.\n",
    "                if w>0:\n",
    "                    MonomioTemporario*=amostra2[i,:-1][w-1]\n",
    "                #Caso que o literal muda o numero da variavel especifica\n",
    "                #da observacao\n",
    "                elif amostra2[i,:-1][np.abs(w)-1]==0:\n",
    "                    MonomioTemporario*=1\n",
    "                else:\n",
    "                    MonomioTemporario*=0\n",
    "            if MonomioTemporario==1:\n",
    "                #Verificar se é redundacia.\n",
    "                if j not in monomios_a_remover:\n",
    "                    #print(j)\n",
    "                    #Removendo o monomio que da 1.\n",
    "                    monomios_a_remover.append(j)\n",
    "monomios_a_remover"
   ]
  },
  {
   "cell_type": "code",
   "execution_count": 29,
   "metadata": {},
   "outputs": [],
   "source": [
    "for i in monomios_a_remover:\n",
    "    Monomios2.remove(i)"
   ]
  },
  {
   "cell_type": "code",
   "execution_count": 30,
   "metadata": {},
   "outputs": [
    {
     "name": "stdout",
     "output_type": "stream",
     "text": [
      "A funcao de disjuncao de monomomios é:  [(3, 2), (-1, 2), (-1, 3)]\n",
      "A funcao de disjuncao de monomios acertou todos os exemplos!\n"
     ]
    }
   ],
   "source": [
    "print(\"A funcao de disjuncao de monomomios é: \",Monomios2)\n",
    "if len(Monomios2)!=0:                \n",
    "#Contar os acertos  \n",
    "    Acertos=0    \n",
    "    Erros=0                \n",
    "    for i in range(amostra2.shape[0]):\n",
    "        MonomiosDaObs=[]\n",
    "    #Verificando somente as observacoes que as classes dao 0.\n",
    "        for j in Monomios2:\n",
    "            #Monomio particular pra saber se é 0 ou 1.\n",
    "            MonomioTemporario=1\n",
    "            #Acessando os literais do monomio.\n",
    "            for k in j:\n",
    "                #Caso que o literal seja normal, o mesmo da variavel especifica\n",
    "                #da observacao.\n",
    "                if k>0:\n",
    "                    MonomioTemporario*=amostra2[i,:-1][k-1]\n",
    "                #Caso que o literal muda o numero da variavel especifica\n",
    "                #da observacao\n",
    "                elif k<0 and amostra2[i,:-1][np.abs(k)-1]==0:          \n",
    "                    MonomioTemporario*=1\n",
    "                else:\n",
    "                    MonomioTemporario*=0\n",
    "            MonomiosDaObs.append(MonomioTemporario)\n",
    "        if amostra2[i,-1]==1 and (1 in MonomiosDaObs):\n",
    "            Acertos+=1\n",
    "        elif amostra2[i,-1]==0 and (1 not in MonomiosDaObs):\n",
    "            Acertos+=1\n",
    "        else:\n",
    "            Erros+=1\n",
    "    if Acertos==amostra2.shape[0]:\n",
    "        print(\"A funcao de disjuncao de monomios acertou todos os exemplos!\") \n",
    "    else:\n",
    "        print(\"A funcao de disjuncao de monomios acertou: \",np.round(100*Acertos/(Acertos+Erros),2),\"% das vezes.\")\n",
    "else:\n",
    "    print(\"Infelizmente nao existe uma funcao de disjuncao de monomios que represente as classes dos dados da amostra.\")       "
   ]
  }
 ],
 "metadata": {
  "kernelspec": {
   "display_name": "Python 3",
   "language": "python",
   "name": "python3"
  },
  "language_info": {
   "codemirror_mode": {
    "name": "ipython",
    "version": 3
   },
   "file_extension": ".py",
   "mimetype": "text/x-python",
   "name": "python",
   "nbconvert_exporter": "python",
   "pygments_lexer": "ipython3",
   "version": "3.7.1"
  }
 },
 "nbformat": 4,
 "nbformat_minor": 2
}
