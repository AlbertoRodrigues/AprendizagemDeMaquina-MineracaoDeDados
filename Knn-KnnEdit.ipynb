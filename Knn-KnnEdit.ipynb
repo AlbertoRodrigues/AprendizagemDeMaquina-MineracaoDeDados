{
 "cells": [
  {
   "cell_type": "markdown",
   "metadata": {},
   "source": [
    "# Nome: Alberto Rodrigues Ferreira\n",
    "# Matricula: 391278"
   ]
  },
  {
   "cell_type": "code",
   "execution_count": 6,
   "metadata": {},
   "outputs": [],
   "source": [
    "import sklearn.datasets\n",
    "import numpy as np\n",
    "import pandas as pd\n",
    "from sklearn.model_selection import train_test_split\n",
    "from sklearn.preprocessing import scale"
   ]
  },
  {
   "cell_type": "code",
   "execution_count": 7,
   "metadata": {},
   "outputs": [],
   "source": [
    "iris_x=sklearn.datasets.load_iris().data\n",
    "iris_y=sklearn.datasets.load_iris().target\n",
    "#Padronizando as variaveis.\n",
    "iris_x=scale(iris_x)"
   ]
  },
  {
   "cell_type": "code",
   "execution_count": 8,
   "metadata": {},
   "outputs": [],
   "source": [
    "#Orientacao a objeto.\n",
    "class knn:\n",
    "    def __init__(self,k):\n",
    "        self.k=k\n",
    "        \n",
    "    def fit(self,xtreino,ytreino):\n",
    "        self.xtreino=xtreino\n",
    "        self.ytreino=ytreino\n",
    "        \n",
    "    def predict(self,x1):\n",
    "        previsoes=[]\n",
    "        #Indices do conjunto de teste\n",
    "        for i in range(x1.shape[0]):\n",
    "            distancias=[]\n",
    "            #indices do conjunto de treinamento\n",
    "            for j in range(self.xtreino.shape[0]):\n",
    "                #Calculando a distancia euclidiana da i-esima observacao de teste\n",
    "                #com todas as observacoes de treino, fiz dois casos pois no caso\n",
    "                #que somente peco uma observacao de teste as dimensoes mudam. \n",
    "                if len(x1)>1:\n",
    "                    distancias.append(np.sqrt(np.sum((x1[i,:]-self.xtreino[j,:])**2)))\n",
    "                else:\n",
    "                   distancias.append(np.sqrt(np.sum((x1-self.xtreino[j,:])**2))) \n",
    "            indices_vizinhos=np.argsort(distancias)[:self.k]\n",
    "            y_candidatos=self.ytreino[indices_vizinhos]\n",
    "            #A funcao np.unique com return_counts=True dará dois arrays, o \n",
    "            #primeiro com os valores unicos e o segundo com a quantidade\n",
    "            #de ocorrencias de cada um, logo o que aparece mais vezes sera a moda\n",
    "            #e eu pego o indice da moda e pego a classe que aparece mais vezes.\n",
    "            indice_da_moda=np.argmax(np.unique(y_candidatos,return_counts=True)[1])\n",
    "            #A previsao de cada observacao de teste\n",
    "            previsoes.append(np.unique(y_candidatos)[indice_da_moda])\n",
    "        return(np.array(previsoes))         \n",
    "    #Metodo que mede a acuracia do teste e os valores preditos \n",
    "    \n",
    "    def acuracia(self,a,b):\n",
    "        cont=0\n",
    "        for i in range(len(b)):\n",
    "            if a[i]==b[i]:\n",
    "                cont+=1\n",
    "        return(np.array([np.round(cont/len(b),3)]))  \n",
    "        \n",
    "    #Metodo da matriz de confusao\n",
    "    def matriz_de_confusao(self,real,predito):\n",
    "        print(pd.crosstab(real,predito,rownames=[\"Classe real\"]\n",
    ",colnames=[\"Classe predita\"],margins=True))\n",
    "    \n",
    "    #Metodo do knn-edit, elimincacao sequencial\n",
    "    def edit(self,x_treino,y_treino):\n",
    "        #Indices do conjunto de treinamento\n",
    "        indices_treino=np.arange(x_treino.shape[0])\n",
    "        #Indices que ser das observacoes que vao previstas corretamente e \n",
    "        #retiradas.\n",
    "        indices=[]\n",
    "        for i in range(x_treino.shape[0]):\n",
    "            #Chamando a classe knn com k vizinhos para cada observacao de \n",
    "            #treinamento.\n",
    "            modelo=knn(self.k)\n",
    "            #A funcao np.setdiff1d faz a diferenca entre conjuntos, e np.union1d\n",
    "            # a uniao, no caso a eliminacao sequencial e feita nessa parte.\n",
    "            #Primeiro: Para cada observacao de treinamento nunca vai acontecer\n",
    "            #de os vizinhos conter a mesma observacao.\n",
    "            #Segundo: Sempre que uma observacao e prevista corretamente ela\n",
    "            #sera acrescentado na lista indices e assim excluida no resto das\n",
    "            #iteracoes.\n",
    "            modelo.fit(x_treino[np.setdiff1d(indices_treino,np.union1d(indices,i)),:],\n",
    "                               y_treino[np.setdiff1d(indices_treino,np.union1d(indices,i))])\n",
    "            #Verificando se a observacao e prevista corretamente com o metodo\n",
    "            #predict da classe.\n",
    "            if y_treino[i]==modelo.predict(x_treino[[i],:])[0]:\n",
    "                indices.append(i)\n",
    "        #Retornando os indices de todo o conjunto de treinamento que sera usado\n",
    "        #no knn-edit.\n",
    "        return(np.setdiff1d(indices_treino,indices))"
   ]
  },
  {
   "cell_type": "code",
   "execution_count": 9,
   "metadata": {},
   "outputs": [],
   "source": [
    "#Fazendo as comparacoes        \n",
    "#Indices da semente, fazendo 10 particoes aleatorias diferentes.\n",
    "indices_aleatorios=np.random.randint(1,1000,size=10)"
   ]
  },
  {
   "cell_type": "code",
   "execution_count": 10,
   "metadata": {},
   "outputs": [],
   "source": [
    "#Listas das acuracias dos dois knn's\n",
    "acuracia1=[]\n",
    "acuracia2=[]\n",
    "#Indices dos k\n",
    "for i in [2,3,5]:\n",
    "    for j in indices_aleatorios:\n",
    "        #Fazendo um modelo da classe knn pros dois e comparando as acuracias.\n",
    "        modelo=knn(i)   \n",
    "        xtreino,xteste,ytreino,yteste=train_test_split(iris_x,iris_y,test_size=0.5,random_state=j)     \n",
    "        modelo.fit(xtreino,ytreino)  \n",
    "        acuracia1.append(modelo.acuracia(yteste,modelo.predict(xteste))[0])\n",
    "        \n",
    "        modelo2=knn(i)\n",
    "        indices_edit=modelo2.edit(xtreino,ytreino)\n",
    "        modelo2.fit(xtreino[indices_edit,:],ytreino[indices_edit])\n",
    "        acuracia2.append(modelo2.acuracia(yteste,modelo2.predict(xteste))[0])\n"
   ]
  },
  {
   "cell_type": "code",
   "execution_count": 11,
   "metadata": {},
   "outputs": [],
   "source": [
    "#Tabela com todas as acuracias        \n",
    "tabela=np.column_stack((acuracia1,acuracia2))"
   ]
  },
  {
   "cell_type": "code",
   "execution_count": 12,
   "metadata": {},
   "outputs": [],
   "source": [
    "#Separando pelos k\n",
    "tabela=np.vsplit(tabela,3)"
   ]
  },
  {
   "cell_type": "code",
   "execution_count": 13,
   "metadata": {},
   "outputs": [
    {
     "name": "stdout",
     "output_type": "stream",
     "text": [
      "k=2\n",
      " [[0.947 0.853]\n",
      " [0.947 0.947]\n",
      " [0.893 0.84 ]\n",
      " [0.893 0.8  ]\n",
      " [0.933 0.84 ]\n",
      " [0.947 0.907]\n",
      " [0.947 0.933]\n",
      " [0.973 0.76 ]\n",
      " [0.96  0.813]\n",
      " [0.933 0.8  ]]\n",
      "Média das perfomances para k=2 : [0.9373 0.8493] \n",
      "\n"
     ]
    }
   ],
   "source": [
    "#k=2\n",
    "#Primeira coluna knn normal, segunda coluna knn-edit.\n",
    "print(\"k=2\\n\",tabela[0])\n",
    "#Medias das performances\n",
    "print(\"Média das perfomances para k=2 :\",np.mean(tabela[0],axis=0),\"\\n\")"
   ]
  },
  {
   "cell_type": "code",
   "execution_count": 14,
   "metadata": {},
   "outputs": [
    {
     "name": "stdout",
     "output_type": "stream",
     "text": [
      "k=3\n",
      " [[0.947 0.88 ]\n",
      " [0.933 0.907]\n",
      " [0.947 0.88 ]\n",
      " [0.907 0.893]\n",
      " [0.933 0.96 ]\n",
      " [0.96  0.773]\n",
      " [0.973 0.8  ]\n",
      " [0.973 0.88 ]\n",
      " [0.973 0.84 ]\n",
      " [0.947 0.773]]\n",
      "Média das perfomances para k=3 : [0.9493 0.8586] \n",
      "\n"
     ]
    }
   ],
   "source": [
    "#k=3\n",
    "print(\"k=3\\n\",tabela[1])\n",
    "print(\"Média das perfomances para k=3 :\",np.mean(tabela[1],axis=0),\"\\n\")"
   ]
  },
  {
   "cell_type": "code",
   "execution_count": 15,
   "metadata": {},
   "outputs": [
    {
     "name": "stdout",
     "output_type": "stream",
     "text": [
      "k=5\n",
      " [[0.947 0.987]\n",
      " [0.933 0.88 ]\n",
      " [0.92  0.893]\n",
      " [0.933 0.84 ]\n",
      " [0.96  0.8  ]\n",
      " [0.96  0.773]\n",
      " [0.987 0.667]\n",
      " [0.973 0.8  ]\n",
      " [0.947 0.747]\n",
      " [0.96  0.827]]\n",
      "Média das perfomances para k=5 : [0.952  0.8214] \n",
      "\n"
     ]
    }
   ],
   "source": [
    "#k=5\n",
    "print(\"k=5\\n\",tabela[2])\n",
    "print(\"Média das perfomances para k=5 :\",np.mean(tabela[2],axis=0),\"\\n\")"
   ]
  }
 ],
 "metadata": {
  "kernelspec": {
   "display_name": "Python 3",
   "language": "python",
   "name": "python3"
  },
  "language_info": {
   "codemirror_mode": {
    "name": "ipython",
    "version": 3
   },
   "file_extension": ".py",
   "mimetype": "text/x-python",
   "name": "python",
   "nbconvert_exporter": "python",
   "pygments_lexer": "ipython3",
   "version": "3.7.1"
  }
 },
 "nbformat": 4,
 "nbformat_minor": 2
}
