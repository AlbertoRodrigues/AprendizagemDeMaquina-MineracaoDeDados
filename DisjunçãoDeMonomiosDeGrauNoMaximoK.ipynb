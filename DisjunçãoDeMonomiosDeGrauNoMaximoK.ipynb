{
 "cells": [
  {
   "cell_type": "code",
   "execution_count": 2,
   "metadata": {},
   "outputs": [],
   "source": [
    "#Nome: Alberto Rodrigues Ferreira\n",
    "#Matrícula: 391278\n",
    "import numpy as np\n",
    "import itertools as it"
   ]
  },
  {
   "cell_type": "code",
   "execution_count": 3,
   "metadata": {},
   "outputs": [
    {
     "name": "stdout",
     "output_type": "stream",
     "text": [
      "Digite o número de observacoes: 100\n",
      "Digite o número de variaveis: 8\n"
     ]
    }
   ],
   "source": [
    "#Processo que pede numero de observacoes, variaveis e o grau da funcao \n",
    "#de disjuncao sem nenhum problema.\n",
    "while True:\n",
    "    try:\n",
    "        n=int(input(\"Digite o número de observacoes: \"))\n",
    "        p=int(input(\"Digite o número de variaveis: \"))\n",
    "        if p>0 and n>0 and float(p)==int(p) and float(n)==int(n):\n",
    "            break\n",
    "        else:\n",
    "            print(\"Voce nao digitou as quantidades pedidas adequadamente, tente denovo!\")\n",
    "    except:\n",
    "        print(\"Voce nao digitou as quantidades pedidas adequadamente, tente denovo!\")"
   ]
  },
  {
   "cell_type": "code",
   "execution_count": 4,
   "metadata": {},
   "outputs": [
    {
     "name": "stdout",
     "output_type": "stream",
     "text": [
      "Digite o grau do maior monomio da disjuncao: 9\n",
      "Voce digitou um grau maior que o numero de variaveis, tente denovo!\n",
      "Digite o grau do maior monomio da disjuncao: 3\n"
     ]
    }
   ],
   "source": [
    "while True:\n",
    "    try:\n",
    "        k=int(input(\"Digite o grau do maior monomio da disjuncao: \"))\n",
    "        if k>0 and float(k)==int(k) and k<=p:\n",
    "            break\n",
    "        elif k>p:\n",
    "             print(\"Voce digitou um grau maior que o numero de variaveis, tente denovo!\")\n",
    "        else:\n",
    "            print(\"Voce nao digitou o grau adequadamente, tente denovo!\")\n",
    "    except:\n",
    "        print(\"Voce nao digitou o grau adequadamente, tente denovo!\")     \n"
   ]
  },
  {
   "cell_type": "code",
   "execution_count": 5,
   "metadata": {},
   "outputs": [],
   "source": [
    "amostra=np.random.randint(0,2,size=(n,p))\n",
    "#Gerando todos os monomios possiveis.\n",
    "Monomios=list(it.product([-1,0,1],repeat=p))\n"
   ]
  },
  {
   "cell_type": "code",
   "execution_count": 6,
   "metadata": {},
   "outputs": [],
   "source": [
    "#Tirando o monomios que nao pega nenhum literal.\n",
    "Monomios.remove(tuple(np.full(p,0)))\n",
    "#Removendo monomios que passam do limite de grau k generico fornecido pelo usuario.\n",
    "monomios_a_remover=[]\n",
    "for i in Monomios:\n",
    "    if i.count(0)<p-k:\n",
    "        monomios_a_remover.append(i)\n",
    "monomios_a_remover  \n",
    "for i in monomios_a_remover:\n",
    "    Monomios.remove(i)   \n",
    "Monomios=np.array(Monomios)\n"
   ]
  },
  {
   "cell_type": "code",
   "execution_count": 7,
   "metadata": {},
   "outputs": [
    {
     "data": {
      "text/plain": [
       "array([265, 430, 207, 148, 213])"
      ]
     },
     "execution_count": 7,
     "metadata": {},
     "output_type": "execute_result"
    }
   ],
   "source": [
    "#Aqui escolho os indices de alguns monomios possiveis para gerar as classes \n",
    "#da amostra, por simplicidade gerei uma funcao de disjuncao que tem no maximo\n",
    "#5 monomios se tiver pelo menos 2 variaveis e se tiver 1 variavel sera so 1\n",
    "#monomio, pois quanto maior o numero de monomios que gerarao as classes e mais\n",
    "#provavel da classe ser 1.\n",
    "if p>1:\n",
    "    IndicesAleatorios=np.random.choice(np.arange(len(Monomios)),np.random.choice(np.arange(1,6)),replace=False)\n",
    "else:\n",
    "    IndicesAleatorios=np.random.choice(np.arange(len(Monomios)),1,replace=False)\n",
    "IndicesAleatorios\n"
   ]
  },
  {
   "cell_type": "code",
   "execution_count": 8,
   "metadata": {},
   "outputs": [
    {
     "data": {
      "text/plain": [
       "array([[ 0,  0,  0,  0, -1,  0,  0,  0],\n",
       "       [ 0,  1,  0,  0, -1,  1,  0,  0],\n",
       "       [ 0,  0, -1,  0,  1, -1,  0,  0],\n",
       "       [ 0, -1,  0,  0,  1,  0,  0,  0],\n",
       "       [ 0,  0, -1,  0,  1,  1,  0,  0]])"
      ]
     },
     "execution_count": 8,
     "metadata": {},
     "output_type": "execute_result"
    }
   ],
   "source": [
    "#Funcao de disjuncao que gerará as classes\n",
    "previsores_classes=Monomios[IndicesAleatorios]\n",
    "previsores_classes\n"
   ]
  },
  {
   "cell_type": "code",
   "execution_count": 9,
   "metadata": {},
   "outputs": [
    {
     "data": {
      "text/plain": [
       "[1,\n",
       " 1,\n",
       " 0,\n",
       " 0,\n",
       " 1,\n",
       " 1,\n",
       " 1,\n",
       " 1,\n",
       " 1,\n",
       " 1,\n",
       " 0,\n",
       " 1,\n",
       " 1,\n",
       " 1,\n",
       " 1,\n",
       " 1,\n",
       " 1,\n",
       " 1,\n",
       " 1,\n",
       " 1,\n",
       " 1,\n",
       " 1,\n",
       " 1,\n",
       " 1,\n",
       " 1,\n",
       " 1,\n",
       " 1,\n",
       " 1,\n",
       " 1,\n",
       " 1,\n",
       " 1,\n",
       " 1,\n",
       " 0,\n",
       " 0,\n",
       " 1,\n",
       " 1,\n",
       " 1,\n",
       " 1,\n",
       " 1,\n",
       " 1,\n",
       " 0,\n",
       " 1,\n",
       " 1,\n",
       " 1,\n",
       " 1,\n",
       " 1,\n",
       " 1,\n",
       " 1,\n",
       " 1,\n",
       " 1,\n",
       " 1,\n",
       " 1,\n",
       " 1,\n",
       " 1,\n",
       " 1,\n",
       " 1,\n",
       " 1,\n",
       " 1,\n",
       " 1,\n",
       " 1,\n",
       " 1,\n",
       " 1,\n",
       " 1,\n",
       " 1,\n",
       " 1,\n",
       " 1,\n",
       " 0,\n",
       " 0,\n",
       " 1,\n",
       " 1,\n",
       " 1,\n",
       " 1,\n",
       " 1,\n",
       " 0,\n",
       " 1,\n",
       " 1,\n",
       " 1,\n",
       " 1,\n",
       " 1,\n",
       " 1,\n",
       " 1,\n",
       " 0,\n",
       " 1,\n",
       " 1,\n",
       " 1,\n",
       " 1,\n",
       " 1,\n",
       " 1,\n",
       " 1,\n",
       " 1,\n",
       " 1,\n",
       " 1,\n",
       " 1,\n",
       " 1,\n",
       " 1,\n",
       " 1,\n",
       " 1,\n",
       " 0,\n",
       " 1,\n",
       " 1]"
      ]
     },
     "execution_count": 9,
     "metadata": {},
     "output_type": "execute_result"
    }
   ],
   "source": [
    "Classes=[]\n",
    "for i in range(amostra.shape[0]):\n",
    "        MonomiosDaObs=[]\n",
    "        for j in previsores_classes:\n",
    "            #Monomio particular pra saber se é 0 ou 1.\n",
    "            MonomioTemporario=1\n",
    "            #Acessando os literais do monomio.\n",
    "            for k in range(p):\n",
    "                #Caso que o literal seja normal, o mesmo da variavel especifica\n",
    "                #da observacao.\n",
    "                if j[k]==1:\n",
    "                    MonomioTemporario*=amostra[i,k]\n",
    "                #Caso que o literal muda o numero da variavel especifica\n",
    "                #da observacao\n",
    "                elif j[k]==-1 and amostra[i,k]==0:          \n",
    "                    MonomioTemporario*=1\n",
    "                elif j[k]==-1 and amostra[i,k]==1:\n",
    "                    MonomioTemporario*=0\n",
    "                else:\n",
    "                    continue\n",
    "            MonomiosDaObs.append(MonomioTemporario)\n",
    "        if 1 in MonomiosDaObs:\n",
    "            Classes.append(1)\n",
    "        else:\n",
    "            Classes.append(0)\n",
    "Classes\n"
   ]
  },
  {
   "cell_type": "code",
   "execution_count": 10,
   "metadata": {},
   "outputs": [],
   "source": [
    "monomios_a_remover =[]\n",
    "#Acessando os indices das observacoes.\n",
    "for i in range(amostra.shape[0]):\n",
    "    #Verificando somente as observacoes que as classes dao 0.\n",
    "    if Classes[i]==0:\n",
    "        #Acessando os indices dos monomios \n",
    "        for j in range(Monomios.shape[0]):\n",
    "            #Monomio particular pra saber se é 0 ou 1.\n",
    "            MonomioTemporario=1\n",
    "            #Acessando os indices dos literais do monomio.\n",
    "            for w in range(p):\n",
    "                #Caso que o literal seja normal, o mesmo da variavel especifica\n",
    "                #da observacao.\n",
    "                if Monomios[j][w]==1:\n",
    "                    MonomioTemporario*=amostra[i,w]\n",
    "                #Caso que o literal muda o numero da variavel especifica\n",
    "                #da observacao\n",
    "                elif Monomios[j][w]==-1 and amostra[i,w]==0:\n",
    "                    MonomioTemporario*=1\n",
    "                elif Monomios[j][w]==-1 and amostra[i,w]==1:\n",
    "                    MonomioTemporario*=0\n",
    "                else:\n",
    "                    continue\n",
    "            if MonomioTemporario==1:\n",
    "                if j not in monomios_a_remover:\n",
    "                    monomios_a_remover.append(j)\n"
   ]
  },
  {
   "cell_type": "code",
   "execution_count": 11,
   "metadata": {},
   "outputs": [
    {
     "name": "stdout",
     "output_type": "stream",
     "text": [
      "A funcao de disjuncao de monomomios é: \n",
      " [[-1 -1 -1 ...  0  0  0]\n",
      " [-1 -1  0 ...  0  0  0]\n",
      " [-1 -1  0 ...  0  0  0]\n",
      " ...\n",
      " [ 1  0  1 ...  0  0  0]\n",
      " [ 1  1 -1 ...  0  0  0]\n",
      " [ 1  1  0 ...  0  0  0]] \n",
      "\n",
      "A funcao de disjuncao de monomomios que gerou as classes é: \n",
      " [[ 0  0  0  0 -1  0  0  0]\n",
      " [ 0  1  0  0 -1  1  0  0]\n",
      " [ 0  0 -1  0  1 -1  0  0]\n",
      " [ 0 -1  0  0  1  0  0  0]\n",
      " [ 0  0 -1  0  1  1  0  0]]\n",
      "A funcao de disjuncao de monomios acertou todos os exemplos!\n"
     ]
    }
   ],
   "source": [
    "#Disjuncao de monomios de no maximo grau k que preve as classes. \n",
    "#Funcao setdiff1d faz a diferenca de conjuntos, eu fiz com que somente apareca\n",
    "#os monomios que dao certo para as observacoes de classe 0.                \n",
    "disjuncao_monomios=Monomios[np.setdiff1d(np.arange(Monomios.shape[0]),np.array(monomios_a_remover))]\n",
    "print(\"A funcao de disjuncao de monomomios é: \\n\",disjuncao_monomios,\"\\n\")\n",
    "print(\"A funcao de disjuncao de monomomios que gerou as classes é: \\n\",previsores_classes)\n",
    "#Processo para ver se a disjuncao acerta todas as classes.\n",
    "Acertos=0              \n",
    "for i in range(amostra.shape[0]):\n",
    "    MonomiosDaObs=[]\n",
    "    for j in range(disjuncao_monomios.shape[0]):\n",
    "        #Monomio particular pra saber se é 0 ou 1.\n",
    "        MonomioTemporario=1\n",
    "        #Acessando os literais do monomio.\n",
    "        for w in range(p):\n",
    "            #Caso que o literal seja normal, o mesmo da variavel especifica\n",
    "            #da observacao.\n",
    "            if disjuncao_monomios[j][w]==1:\n",
    "                MonomioTemporario*=amostra[i,w]\n",
    "            #Caso que o literal muda o numero da variavel especifica\n",
    "            #da observacao\n",
    "            elif disjuncao_monomios[j][w]==-1 and amostra[i,w]==0:          \n",
    "                MonomioTemporario*=1\n",
    "            elif disjuncao_monomios[j][w]==-1 and amostra[i,w]==1:          \n",
    "                MonomioTemporario*=0\n",
    "            else:\n",
    "                continue\n",
    "        MonomiosDaObs.append(MonomioTemporario)\n",
    "    if Classes[i]==1 and (1 in MonomiosDaObs):\n",
    "        Acertos+=1\n",
    "    elif Classes[i]==0 and (1 not in MonomiosDaObs):\n",
    "        Acertos+=1\n",
    "    else:\n",
    "        continue\n",
    "if Acertos==amostra.shape[0]:\n",
    "    print(\"A funcao de disjuncao de monomios acertou todos os exemplos!\") "
   ]
  }
 ],
 "metadata": {
  "kernelspec": {
   "display_name": "Python 3",
   "language": "python",
   "name": "python3"
  },
  "language_info": {
   "codemirror_mode": {
    "name": "ipython",
    "version": 3
   },
   "file_extension": ".py",
   "mimetype": "text/x-python",
   "name": "python",
   "nbconvert_exporter": "python",
   "pygments_lexer": "ipython3",
   "version": "3.7.1"
  }
 },
 "nbformat": 4,
 "nbformat_minor": 2
}
