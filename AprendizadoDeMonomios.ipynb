{
 "cells": [
  {
   "cell_type": "code",
   "execution_count": 1,
   "metadata": {},
   "outputs": [],
   "source": [
    "import numpy as np\n",
    "import itertools "
   ]
  },
  {
   "cell_type": "code",
   "execution_count": 7,
   "metadata": {},
   "outputs": [
    {
     "data": {
      "text/plain": [
       "[[(0,), (1,), (2,), (3,)],\n",
       " [(0, 1), (0, 2), (0, 3), (1, 2), (1, 3), (2, 3)],\n",
       " [(0, 1, 2), (0, 1, 3), (0, 2, 3), (1, 2, 3)],\n",
       " [(0, 1, 2, 3)]]"
      ]
     },
     "execution_count": 7,
     "metadata": {},
     "output_type": "execute_result"
    }
   ],
   "source": [
    "dados=np.array([[0,1,0,1,0],[1,0,1,1,1],[0,0,1,0,1],[1,1,0,1,1]])\n",
    "PossiveisPosicoes=[]\n",
    "for i in range(1,len(dados[0][:-1])+1):\n",
    "    PossiveisPosicoes.append(list(itertools.combinations([0,1,2,3],i)))\n",
    " ##Todas os subconjuntos das posicoes dos elementos dos dados\n",
    "PossiveisPosicoes   "
   ]
  },
  {
   "cell_type": "code",
   "execution_count": 4,
   "metadata": {},
   "outputs": [],
   "source": [
    "#Funcao da hipotese\n",
    "def hipotese(x,k):\n",
    "    if np.sum(x)>=k:\n",
    "        return(1)\n",
    "    else:\n",
    "        return(0)       "
   ]
  },
  {
   "cell_type": "code",
   "execution_count": 8,
   "metadata": {},
   "outputs": [],
   "source": [
    "##Numero total de hipoteses (((2^4)-1)*6)=90\n",
    "## Tirei 1 porque é o caso em que nenhum elemento foi selecionado\n",
    "## e 6 é a quantidade de limiares\n",
    "Hipoteses=np.zeros(shape=(((2**4)-1)*6))"
   ]
  },
  {
   "cell_type": "code",
   "execution_count": 15,
   "metadata": {},
   "outputs": [],
   "source": [
    "#Indice das hipoteses\n",
    "x=0\n",
    "#Indice das possiveis permutacoes de subconjuntos das posicoes \n",
    "for i in range(len(dados[0][:-1])):\n",
    "    #Indice das tuplas de PossiveisPosicoes\n",
    "    for j in range(len(PossiveisPosicoes[i])):\n",
    "        #Indice do limiar\n",
    "        for k in range(6):\n",
    "            x=x+1\n",
    "            #Indice das observacoes\n",
    "            for w in range(dados.shape[0]):\n",
    "                if hipotese(dados[w][:-1][(list(PossiveisPosicoes[i][j]))],k)!=dados[w][-1]:\n",
    "                    Hipoteses[x-1]+=1\n",
    "        if Hipoteses[x-1] == 0:\n",
    "                print(x-1, PossiveisPosicoes[i][j], k)"
   ]
  },
  {
   "cell_type": "code",
   "execution_count": 12,
   "metadata": {},
   "outputs": [
    {
     "data": {
      "text/plain": [
       "31"
      ]
     },
     "execution_count": 12,
     "metadata": {},
     "output_type": "execute_result"
    }
   ],
   "source": [
    "#Como a posicao é 31 as 4 linhas no loop se justificam por isso, pois eu quero saber \n",
    "#qual subconjunto e qual k foi da melhor hipótese, que deram o subconjunto[0,2] e k=1\n",
    "#Mas nos dados eu testei e ele erra 1 vez e não 0 e estou em dúvida onde está o erro.\n",
    "np.argmin(Hipoteses)"
   ]
  },
  {
   "cell_type": "code",
   "execution_count": 13,
   "metadata": {},
   "outputs": [
    {
     "data": {
      "text/plain": [
       "0.0"
      ]
     },
     "execution_count": 13,
     "metadata": {},
     "output_type": "execute_result"
    }
   ],
   "source": [
    "Hipoteses[np.argmin(Hipoteses)]"
   ]
  }
 ],
 "metadata": {
  "kernelspec": {
   "display_name": "Python 3",
   "language": "python",
   "name": "python3"
  },
  "language_info": {
   "codemirror_mode": {
    "name": "ipython",
    "version": 3
   },
   "file_extension": ".py",
   "mimetype": "text/x-python",
   "name": "python",
   "nbconvert_exporter": "python",
   "pygments_lexer": "ipython3",
   "version": "3.7.1"
  }
 },
 "nbformat": 4,
 "nbformat_minor": 2
}
