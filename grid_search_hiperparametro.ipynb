{
 "cells": [
  {
   "cell_type": "code",
   "execution_count": 3,
   "metadata": {},
   "outputs": [],
   "source": [
    "from sklearn.model_selection import  cross_val_score,StratifiedKFold,train_test_split\n",
    "from sklearn.metrics import accuracy_score\n",
    "from sklearn.tree import DecisionTreeClassifier\n",
    "from sklearn.datasets import load_iris\n",
    "import numpy as np"
   ]
  },
  {
   "cell_type": "code",
   "execution_count": 4,
   "metadata": {},
   "outputs": [],
   "source": [
    "#Conjunto de dados iris\n",
    "classe=load_iris().target\n",
    "dados=load_iris().data"
   ]
  },
  {
   "cell_type": "code",
   "execution_count": 5,
   "metadata": {},
   "outputs": [],
   "source": [
    "x_treino,x_teste,y_treino,y_teste=train_test_split(dados,classe,test_size=0.3\n",
    "                                        ,random_state=7,stratify=classe)"
   ]
  },
  {
   "cell_type": "code",
   "execution_count": 6,
   "metadata": {},
   "outputs": [],
   "source": [
    "class classificador_com_ajuste():\n",
    "    def __init__(self, classificador, hiperparametro, possiveis_parametros):\n",
    "        self.classificador=classificador\n",
    "        self.hiperparametro=hiperparametro\n",
    "        self.possiveis_parametros=possiveis_parametros\n",
    "    def fit(self,x_treino,y_treino):\n",
    "        particao=StratifiedKFold(shuffle=True,n_splits=2)\n",
    "        acuracia=[]        \n",
    "        for i in self.possiveis_parametros: \n",
    "            parametros=dict()\n",
    "            parametros[self.hiperparametro]=i\n",
    "            self.modelo=self.classificador(**parametros)\n",
    "            x=np.mean(cross_val_score(self.modelo,x_treino,y_treino,cv=particao))\n",
    "            print(\"Avaliando Classificador com hiperparametro\",\n",
    "                  self.hiperparametro,\"=\",i,\"Acuracia: \",x)\n",
    "            acuracia.append(x)\n",
    "        self.melhor_hiperparametro=self.possiveis_parametros[np.argmax(acuracia)]\n",
    "        print(\"Melhor hiperparametro : \",self.hiperparametro,\"=\",self.melhor_hiperparametro)\n",
    "        parametros=dict()\n",
    "        parametros[self.hiperparametro]=self.melhor_hiperparametro       \n",
    "        self.modelo=self.classificador(**parametros)\n",
    "        self.modelo.fit(x_treino,y_treino)\n",
    "    def score(self,x_teste,y_teste):\n",
    "        print(accuracy_score(y_teste,self.modelo.predict(x_teste)))"
   ]
  },
  {
   "cell_type": "code",
   "execution_count": 7,
   "metadata": {},
   "outputs": [],
   "source": [
    "hiperparametro=\"max_depth\"\n",
    "possiveis_parametros=[2,3,4,5,6]       "
   ]
  },
  {
   "cell_type": "code",
   "execution_count": 8,
   "metadata": {},
   "outputs": [
    {
     "name": "stdout",
     "output_type": "stream",
     "text": [
      "Avaliando Classificador com hiperparametro max_depth = 2 Acuracia:  0.9340958605664489\n",
      "Avaliando Classificador com hiperparametro max_depth = 3 Acuracia:  0.9340958605664489\n",
      "Avaliando Classificador com hiperparametro max_depth = 4 Acuracia:  0.9711328976034859\n",
      "Avaliando Classificador com hiperparametro max_depth = 5 Acuracia:  0.9711328976034859\n",
      "Avaliando Classificador com hiperparametro max_depth = 6 Acuracia:  0.9433551198257081\n",
      "Melhor hiperparametro :  max_depth = 4\n"
     ]
    }
   ],
   "source": [
    "classificador=classificador_com_ajuste(DecisionTreeClassifier,hiperparametro,possiveis_parametros)  \n",
    "classificador.fit(x_treino,y_treino)  "
   ]
  },
  {
   "cell_type": "code",
   "execution_count": 9,
   "metadata": {},
   "outputs": [
    {
     "name": "stdout",
     "output_type": "stream",
     "text": [
      "0.9333333333333333\n"
     ]
    }
   ],
   "source": [
    "classificador.score(x_teste,y_teste)"
   ]
  }
 ],
 "metadata": {
  "kernelspec": {
   "display_name": "Python 3",
   "language": "python",
   "name": "python3"
  },
  "language_info": {
   "codemirror_mode": {
    "name": "ipython",
    "version": 3
   },
   "file_extension": ".py",
   "mimetype": "text/x-python",
   "name": "python",
   "nbconvert_exporter": "python",
   "pygments_lexer": "ipython3",
   "version": "3.7.1"
  }
 },
 "nbformat": 4,
 "nbformat_minor": 2
}
